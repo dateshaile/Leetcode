{
 "cells": [
  {
   "cell_type": "markdown",
   "metadata": {},
   "source": [
    "##  Longest Substring Without Repeating Characters\n",
    "\n",
    "Given a string, find the length of the longest substring without repeating characters.\n",
    "\n",
    "Examples:\n",
    "\n",
    "Given \"abcabcbb\", the answer is \"abc\", which the length is 3.\n",
    "\n",
    "Given \"bbbbb\", the answer is \"b\", with the length of 1.\n",
    "\n",
    "Given \"pwwkew\", the answer is \"wke\", with the length of 3. Note that the answer must be a substring, \"pwke\" is a subsequence and not a substring."
   ]
  },
  {
   "cell_type": "code",
   "execution_count": 5,
   "metadata": {
    "collapsed": true
   },
   "outputs": [],
   "source": [
    "# Python program to find the length of the longest substring\n",
    "# without repeating characters\n",
    "NO_OF_CHARS = 256\n",
    "def longestUniqueSubsttr(string):\n",
    "    n = len(string)\n",
    "    cur_len = 1        # To store the lenght of current substring\n",
    "    max_len = 1        # To store the result\n",
    "    prev_index = 0    # To store the previous index\n",
    "    i = 0\n",
    " \n",
    "    # Initialize the visited array as -1, -1 is used to indicate\n",
    "    # that character has not been visited yet.\n",
    "    visited = [-1] * NO_OF_CHARS\n",
    " \n",
    "    # Mark first character as visited by storing the index of\n",
    "    # first character in visited array.\n",
    "    visited[ord(string[0])] = 0\n",
    " \n",
    "    # Start from the second character. First character is already\n",
    "    # processed (cur_len and max_len are initialized as 1, and\n",
    "    # visited[str[0]] is set\n",
    "    for i in xrange(1,n):\n",
    "        prev_index = visited[ord(string[i])]\n",
    " \n",
    "        # If the currentt character is not present in the already\n",
    "        # processed substring or it is not part of the current NRCS,\n",
    "        # then do cur_len++\n",
    "        if prev_index == -1 or (i - cur_len > prev_index):\n",
    "            cur_len+=1\n",
    " \n",
    "        # If the current character is present in currently considered\n",
    "        # NRCS, then update NRCS to start from the next character of\n",
    "        # previous instance.\n",
    "        else:\n",
    "            # Also, when we are changing the NRCS, we should also\n",
    "            # check whether length of the previous NRCS was greater\n",
    "            # than max_len or not.\n",
    "            if cur_len > max_len:\n",
    "                max_len = cur_len\n",
    " \n",
    "            cur_len = i - prev_index\n",
    " \n",
    "        # update the index of current character\n",
    "        visited[ord(string[i])] = i\n",
    " \n",
    "    # Compare the length of last NRCS with max_len and update\n",
    "    # max_len if needed\n",
    "    if cur_len > max_len:\n",
    "        max_len = cur_len\n",
    " \n",
    "    return max_len"
   ]
  },
  {
   "cell_type": "code",
   "execution_count": 6,
   "metadata": {
    "collapsed": false
   },
   "outputs": [],
   "source": [
    "a = longestUniqueSubsttr(\"ahahhrebhhddioososhenjuwnsgyaaoieqory\")"
   ]
  },
  {
   "cell_type": "code",
   "execution_count": 7,
   "metadata": {
    "collapsed": false
   },
   "outputs": [
    {
     "name": "stdout",
     "output_type": "stream",
     "text": [
      "8\n"
     ]
    }
   ],
   "source": [
    "print a"
   ]
  },
  {
   "cell_type": "code",
   "execution_count": null,
   "metadata": {
    "collapsed": true
   },
   "outputs": [],
   "source": []
  }
 ],
 "metadata": {
  "anaconda-cloud": {},
  "kernelspec": {
   "display_name": "Python [default]",
   "language": "python",
   "name": "python2"
  },
  "language_info": {
   "codemirror_mode": {
    "name": "ipython",
    "version": 2
   },
   "file_extension": ".py",
   "mimetype": "text/x-python",
   "name": "python",
   "nbconvert_exporter": "python",
   "pygments_lexer": "ipython2",
   "version": "2.7.12"
  }
 },
 "nbformat": 4,
 "nbformat_minor": 1
}
